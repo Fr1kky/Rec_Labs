{
  "cells": [
    {
      "cell_type": "code",
      "source": [
        "from keras.datasets import mnist\n",
        "import numpy as np\n",
        "import random\n",
        "import matplotlib.pyplot as plt"
      ],
      "metadata": {
        "id": "WyOc82QXGom9"
      },
      "execution_count": 128,
      "outputs": []
    },
    {
      "cell_type": "code",
      "source": [
        "(x_train, y_train), (x_test, y_test) = mnist.load_data()"
      ],
      "metadata": {
        "id": "gVivxTHnGpu3"
      },
      "execution_count": 129,
      "outputs": []
    },
    {
      "cell_type": "code",
      "source": [
        "X = np.concatenate((x_train, x_test), axis=0)\n",
        "y = np.concatenate((y_train, y_test), axis=0)"
      ],
      "metadata": {
        "id": "rUdfm7spGrEH"
      },
      "execution_count": 130,
      "outputs": []
    },
    {
      "cell_type": "code",
      "source": [
        "# Бінаризуємо зображення, встановлюючи порогове значення для інтенсивності пікселів\n",
        "def binarize(image):\n",
        "    return np.where(image >= 127, 1, 0)"
      ],
      "metadata": {
        "id": "FnJEEgJoGtof"
      },
      "execution_count": 131,
      "outputs": []
    },
    {
      "cell_type": "code",
      "source": [
        "# Обираємо еталонне зображення для кожного числа\n",
        "reference_images = [binarize(X[random.choice(np.argwhere(y == i))[0]]) for i in range(10)]"
      ],
      "metadata": {
        "id": "_i4sPk3EGvGH"
      },
      "execution_count": 132,
      "outputs": []
    },
    {
      "cell_type": "code",
      "source": [
        "# Додаємо Бернулівський шум до зображення, змінюючи піксель з заданою ймовірністю\n",
        "def add_noise(image, p):\n",
        "    noise = np.random.choice([0, 1], size=image.shape, p=[1 - p, p])\n",
        "    return np.where(noise, 1 - image, image)"
      ],
      "metadata": {
        "id": "rAtt1ttdGwbP"
      },
      "execution_count": 133,
      "outputs": []
    },
    {
      "cell_type": "code",
      "source": [
        "# Функція розпізнавання методом Байєса\n",
        "def recognize(noisy_image):\n",
        "    log_p = np.log(p)\n",
        "    log_1_p = np.log(1 - p)\n",
        "    likelihoods = [np.sum((noisy_image ^ reference) * log_p + (1 ^ noisy_image ^ reference) * log_1_p) for reference in reference_images]\n",
        "    print(likelihoods)\n",
        "    return np.argmax(likelihoods)"
      ],
      "metadata": {
        "id": "LRDfonHsGyGQ"
      },
      "execution_count": 134,
      "outputs": []
    },
    {
      "cell_type": "code",
      "source": [
        "# Малюємо еталонну картинку, шум та зашумлену картинку\n",
        "n = 9\n",
        "p = 0.4\n",
        "noise = np.random.choice([0, 1], size=reference_images[n].shape, p=[1 - p, p])\n",
        "\n",
        "fig, axes = plt.subplots(ncols=3, figsize=(15, 5))\n",
        "\n",
        "axes[0].imshow(reference_images[n], cmap='binary')\n",
        "axes[0].set_title(\"reference image for digit {}\".format(n))\n",
        "\n",
        "noise_arr = np.array(noise, dtype = \"uint8\")\n",
        "axes[1].imshow(noise_arr, cmap='binary')\n",
        "axes[1].set_title(\"noise\")\n",
        "\n",
        "noisy_image = add_noise(reference_images[n], p)\n",
        "axes[2].imshow(noisy_image, cmap='binary')\n",
        "axes[2].set_title(\"noisy image (p = {})\".format(p))\n",
        "\n",
        "plt.show()"
      ],
      "metadata": {
        "colab": {
          "base_uri": "https://localhost:8080/",
          "height": 310
        },
        "id": "VvUwoVHNG1yH",
        "outputId": "4b1ad285-b3af-4bcd-e0fc-dcca6bce7fa0"
      },
      "execution_count": 137,
      "outputs": [
        {
          "output_type": "display_data",
          "data": {
            "text/plain": [
              "<Figure size 1080x360 with 3 Axes>"
            ],
            "image/png": "[encoded data removed]"
          },
          "metadata": {
            "needs_background": "light"
          }
        }
      ]
    },
    {
      "cell_type": "code",
      "source": [
        "recognition_result = recognize(noisy_image)\n",
        "print(\"Recognition result: {}\".format(recognition_result))"
      ],
      "metadata": {
        "colab": {
          "base_uri": "https://localhost:8080/"
        },
        "id": "xawmP_bb20yJ",
        "outputId": "a914d71f-6351-48a0-eda9-cfe85e8921eb"
      },
      "execution_count": 138,
      "outputs": [
        {
          "output_type": "stream",
          "name": "stdout",
          "text": [
            "[-534.6962398163391, -526.992402762284, -531.4525189514737, -529.4251934109329, -531.4525189514737, -532.2634491676899, -539.1563560055289, -526.5869376541758, -529.8306585190411, -522.5322865730941]\n",
            "Recognition result: 9\n"
          ]
        }
      ]
    }
  ],
  "metadata": {
    "kernelspec": {
      "display_name": "Python 3",
      "language": "python",
      "name": "python3"
    },
    "language_info": {
      "codemirror_mode": {
        "name": "ipython",
        "version": 3
      },
      "file_extension": ".py",
      "mimetype": "text/x-python",
      "name": "python",
      "nbconvert_exporter": "python",
      "pygments_lexer": "ipython3",
      "version": "3.7.4"
    },
    "colab": {
      "provenance": []
    }
  },
  "nbformat": 4,
  "nbformat_minor": 0
}